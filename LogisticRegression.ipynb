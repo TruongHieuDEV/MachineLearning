{
  "nbformat": 4,
  "nbformat_minor": 0,
  "metadata": {
    "colab": {
      "private_outputs": true,
      "provenance": [],
      "authorship_tag": "ABX9TyPSgCPCdIleqdj0AbjmAar2",
      "include_colab_link": true
    },
    "kernelspec": {
      "name": "python3",
      "display_name": "Python 3"
    },
    "language_info": {
      "name": "python"
    }
  },
  "cells": [
    {
      "cell_type": "markdown",
      "metadata": {
        "id": "view-in-github",
        "colab_type": "text"
      },
      "source": [
        "<a href=\"https://colab.research.google.com/github/TruongHieuDEV/MachineLearning/blob/main/LogisticRegression.ipynb\" target=\"_parent\"><img src=\"https://colab.research.google.com/assets/colab-badge.svg\" alt=\"Open In Colab\"/></a>"
      ]
    },
    {
      "cell_type": "code",
      "source": [
        "!wget --no-check-certificate 'https://docs.google.com/uc?export=download&id=141hQWu6d948cWGRB2gVedrcbAcn6ydUX' -O data.csv"
      ],
      "metadata": {
        "id": "O3iGr5fHv8HM"
      },
      "execution_count": null,
      "outputs": []
    },
    {
      "cell_type": "markdown",
      "source": [
        "Đối với hai mô hình đã học là linear regression và perceptron learning algorithm thì chúng ta đều có $y = \\textbf{f}(\\textbf{w}^T⋅\\textbf{x}_i)$ gọi là activation function. Với linear regression thì đầu ra là một số thực, không bị chặn trên hay chặn dưới, với PLA thì đầu ra là 1 hoặc -1 thể hiện lớp của điểm dữ liệu. Còn với Logistic Regression đầu ra sẽ là sác xuất được giới hạn bởi (0, 1). Nếu ta coi xác suất $\\textbf{x}$ rơi vào class 1 là $\\textbf{f}(\\textbf{w}^T⋅\\textbf{x}_i)$ và rơi vào class 0 là $1-\\textbf{f}(\\textbf{w}^T⋅\\textbf{x}_i)$ với mô hình như vậy, các điểm dữ liệu train đã biết y ta có thể viết như sau:\n",
        "\n",
        "\n",
        "> $P(y_i=1|\\textbf{x}_i;\\textbf{w}) = f(\\textbf{w}^T⋅\\textbf{x}_i)$\\\n",
        "> $P(y_i=0|\\textbf{x}_i;\\textbf{w}) = 1- f(\\textbf{w}^T⋅\\textbf{x}_i)$\n",
        "\n",
        "\n"
      ],
      "metadata": {
        "id": "GkN_2GpCZpCe"
      }
    },
    {
      "cell_type": "markdown",
      "source": [
        "Đặt $z_i = f(\\textbf{w}^T⋅\\textbf{x}_i)$ và gộp hai biểu thức trên ta có:\n",
        "> $P(y_i|\\textbf{x}_i;\\textbf{w}) = z_i^{y_i} * (1 - z_i)^{1 - y_i}$"
      ],
      "metadata": {
        "id": "pRVfVPCgiJ4t"
      }
    },
    {
      "cell_type": "markdown",
      "source": [
        "Xét toàn bộ training set chúng ta cần tìm w để $P(\\textbf{y}|\\textbf{X};\\textbf{w})$ đạt giá trị max:\n",
        "\n",
        "\n",
        "> $w = arg max_w$$P(\\textbf{y}|\\textbf{X};\\textbf{w})$\n",
        "\n"
      ],
      "metadata": {
        "id": "Y3z6DtHuizb3"
      }
    },
    {
      "cell_type": "markdown",
      "source": [
        "Giả sử các điểm dữ liệu được sinh ra một cách độc lập ngẫu nhiên, ta có:\n",
        "\n",
        "\n",
        "> $P(\\textbf{y}|\\textbf{X};\\textbf{w}) = \\prod_{i = 1}^N P(y_i|\\textbf{x}_i;\\textbf{w}) = \\prod_{i = 1}^N z_i^{y_i} * (1 - z_i)^{1 - y_i}$\n",
        "\n"
      ],
      "metadata": {
        "id": "EJeTIr7bjtd_"
      }
    },
    {
      "cell_type": "markdown",
      "source": [],
      "metadata": {
        "id": "9wBPvmZ8lzJa"
      }
    },
    {
      "cell_type": "code",
      "source": [
        "import numpy as np\n",
        "import pandas as pd\n",
        "import matplotlib.pyplot as plt\n",
        "from sklearn.model_selection import train_test_split\n"
      ],
      "metadata": {
        "id": "8VDUoFJY1MJJ"
      },
      "execution_count": null,
      "outputs": []
    },
    {
      "cell_type": "code",
      "source": [
        "df = pd.read_csv('data.csv')\n",
        "df['Gender_hw'] = df['Gender'].apply(lambda x : 1 if x == 'Male' else 0)\n",
        "df.tail()"
      ],
      "metadata": {
        "id": "88O59x5Q1M-h"
      },
      "execution_count": null,
      "outputs": []
    },
    {
      "cell_type": "code",
      "source": [
        "data = df[[ 'EstimatedSalary', 'Purchased']].rename(columns = { 'EstimatedSalary' : 'Es', 'Purchased' : 'P'})"
      ],
      "metadata": {
        "id": "qtQj3g3s9ycN"
      },
      "execution_count": null,
      "outputs": []
    },
    {
      "cell_type": "code",
      "source": [
        "train, test = train_test_split(data, test_size = 0.2, random_state=12)"
      ],
      "metadata": {
        "id": "nPHJLA2wUNNI"
      },
      "execution_count": null,
      "outputs": []
    },
    {
      "cell_type": "code",
      "source": [
        "def sigmoid(s):\n",
        "  return 1/(1 + np.exp(-s))"
      ],
      "metadata": {
        "id": "jlMyMbedlz1Q"
      },
      "execution_count": null,
      "outputs": []
    },
    {
      "cell_type": "code",
      "source": [
        "def logisticRegerssion(Xtrain, ytrain, w_init, eta, sigmoid, max_count):\n",
        "  w = [w_init]\n",
        "  N = Xtrain.shape[1]\n",
        "  count = 0\n",
        "  check_w_after = 20\n",
        "  while count < max_count:\n",
        "    mix_id = np.random.permutation(N)\n",
        "    for i in mix_id:\n",
        "      xi = Xtrain[:, i].reshape(Xtrain.shape[0], 1)\n",
        "      yi = ytrain[i]\n",
        "      zi = sigmoid(np.dot(w[-1].T, xi))\n",
        "      w_new = w[-1] + eta * (yi - zi) * xi\n",
        "      count+=1\n",
        "      if count % check_w_after == 0:\n",
        "        if np.linalg.norm(w_new - w[-check_w_after]) <= 1e-8:\n",
        "          return w\n",
        "      w.append(w_new)\n",
        "  return w"
      ],
      "metadata": {
        "id": "gGib2izMl_7m"
      },
      "execution_count": null,
      "outputs": []
    },
    {
      "cell_type": "markdown",
      "source": [],
      "metadata": {
        "id": "SqXgoOa4YiMX"
      }
    },
    {
      "cell_type": "code",
      "source": [
        "eta = 0.05\n",
        "\n",
        "\n",
        "X = np.array([[0.50, 0.75, 1.00, 1.25, 1.50, 1.75, 1.75, 2.00, 2.25, 2.50, \n",
        "              2.75, 3.00, 3.25, 3.50, 4.00, 4.25, 4.50, 4.75, 5.00, 5.50]])\n",
        "Xtrain = np.concatenate((X, np.ones((1, X.shape[1]))), axis=0)\n",
        "ytrain = np.array([0, 0, 0, 0, 0, 0, 1, 0, 1, 0, 1, 0, 1, 0, 1, 1, 1, 1, 1, 1])\n",
        "w_init = np.random.rand(Xtrain.shape[0], 1)\n",
        "w = logisticRegerssion(Xtrain, ytrain, w_init, eta, sigmoid, 1000000)\n"
      ],
      "metadata": {
        "id": "Ut3LWXqUN3v9"
      },
      "execution_count": null,
      "outputs": []
    },
    {
      "cell_type": "code",
      "source": [
        "print(w[-1])"
      ],
      "metadata": {
        "id": "EqfXY7tKS6iA"
      },
      "execution_count": null,
      "outputs": []
    }
  ]
}