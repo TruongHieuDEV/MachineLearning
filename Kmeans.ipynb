{
  "nbformat": 4,
  "nbformat_minor": 0,
  "metadata": {
    "colab": {
      "private_outputs": true,
      "provenance": [],
      "authorship_tag": "ABX9TyO7vMu7ykRbCj/2/77l9Z1Y",
      "include_colab_link": true
    },
    "kernelspec": {
      "name": "python3",
      "display_name": "Python 3"
    },
    "language_info": {
      "name": "python"
    }
  },
  "cells": [
    {
      "cell_type": "markdown",
      "metadata": {
        "id": "view-in-github",
        "colab_type": "text"
      },
      "source": [
        "<a href=\"https://colab.research.google.com/github/TruongHieuDEV/MachineLearning/blob/main/Kmeans.ipynb\" target=\"_parent\"><img src=\"https://colab.research.google.com/assets/colab-badge.svg\" alt=\"Open In Colab\"/></a>"
      ]
    },
    {
      "cell_type": "code",
      "execution_count": null,
      "metadata": {
        "id": "bBLDPLUNXORh"
      },
      "outputs": [],
      "source": [
        "from __future__ import print_function \n",
        "import numpy as np\n",
        "import matplotlib.pyplot as plt\n",
        "from scipy.spatial.distance import cdist\n"
      ]
    },
    {
      "cell_type": "code",
      "source": [
        "means = [[2, 2], [8, 3], [3, 6]]\n",
        "cov = [[1, 0], [0, 1]]\n",
        "N = 500\n",
        "X0 = np.random.multivariate_normal(means[0], cov, N)\n",
        "X1 = np.random.multivariate_normal(means[1], cov, N)\n",
        "X2 = np.random.multivariate_normal(means[2], cov, N)\n",
        "\n",
        "X = np.concatenate((X0, X1, X2), axis = 0)\n",
        "K = 3"
      ],
      "metadata": {
        "id": "MrBTiVZWXRRm"
      },
      "execution_count": null,
      "outputs": []
    },
    {
      "cell_type": "code",
      "source": [
        "def kmeans_init_centers(X, k):\n",
        "    return X[np.random.choice(X.shape[0], k, replace=False)]\n",
        "L = kmeans_init_centers(X, 3)\n",
        "def kmeans_assign_labels(X, centers):\n",
        "    D = cdist(X, centers)\n",
        "    return np.argmin(D, axis = 1)\n",
        "def kmeans_update_centers(X, labels, K):\n",
        "  centers = np.zeros((K, X.shape[1]))\n",
        "  for k in range(K):\n",
        "      Xk = X[labels == k, :]\n",
        "      centers[k] = np.mean(Xk, axis = 0)\n",
        "  return centers\n",
        "def has_converaged(centers, newcenters):\n",
        "  return set([tuple(a) for a in centers]) == set([tuple(a) for a in newcenters])"
      ],
      "metadata": {
        "id": "W6ZALnesXm16"
      },
      "execution_count": null,
      "outputs": []
    },
    {
      "cell_type": "code",
      "source": [
        "def kmeans(X, K):\n",
        "  centers = [kmeans_init_centers(X, K)]\n",
        "  labels = []\n",
        "  while(True):\n",
        "    labels.append(kmeans_assign_labels(X, centers[-1]))\n",
        "    new_centers = kmeans_update_centers(X, labels[-1], K)\n",
        "    if has_converaged(centers[-1], new_centers):\n",
        "      break\n",
        "    centers.append(new_centers)\n",
        "  return (centers, labels)\n"
      ],
      "metadata": {
        "id": "6ASrJSZacyt1"
      },
      "execution_count": null,
      "outputs": []
    },
    {
      "cell_type": "code",
      "source": [
        "(centers, labels) = kmeans(X, K)\n",
        "print(centers[-1])"
      ],
      "metadata": {
        "id": "TK1F3VkUf83J"
      },
      "execution_count": null,
      "outputs": []
    }
  ]
}