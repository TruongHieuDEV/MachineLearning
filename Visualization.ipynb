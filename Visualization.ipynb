{
  "nbformat": 4,
  "nbformat_minor": 0,
  "metadata": {
    "colab": {
      "private_outputs": true,
      "provenance": [],
      "authorship_tag": "ABX9TyNNCoOheRYNBaOmyHO6yKc6",
      "include_colab_link": true
    },
    "kernelspec": {
      "name": "python3",
      "display_name": "Python 3"
    },
    "language_info": {
      "name": "python"
    },
    "accelerator": "GPU",
    "gpuClass": "standard"
  },
  "cells": [
    {
      "cell_type": "markdown",
      "metadata": {
        "id": "view-in-github",
        "colab_type": "text"
      },
      "source": [
        "<a href=\"https://colab.research.google.com/github/TruongHieuDEV/MachineLearning/blob/main/Visualization.ipynb\" target=\"_parent\"><img src=\"https://colab.research.google.com/assets/colab-badge.svg\" alt=\"Open In Colab\"/></a>"
      ]
    },
    {
      "cell_type": "code",
      "execution_count": null,
      "metadata": {
        "id": "FEcGPETicWbN"
      },
      "outputs": [],
      "source": [
        "import pandas as pd\n",
        "import matplotlib.pyplot as plt\n",
        "import numpy as np"
      ]
    },
    {
      "cell_type": "markdown",
      "source": [
        "#Pandas\n",
        "Là một package hỗ trợ rất mạnh trong việc phân tích và thống kê dữ liệu. Nó giúp chúng ta dễ dàng liên kết các bảng dữ liệu có quan hệ với nhau. Bên cạnh đó nhờ tích hợp các hàm của matplotlib trong các chức năng của mình cho nên pandas rất dễ để visualization các đồ thị/biểu đồ 2D, 3D. Pandas dễ dàng đọc đa dạng các định dạng file từ phổ biến tới hiếm: csv, txt, xlsx, json, SQL...\n"
      ],
      "metadata": {
        "id": "jn8-xJuj1p-P"
      }
    },
    {
      "cell_type": "markdown",
      "source": [
        "##Khởi tạo dataframe\n"
      ],
      "metadata": {
        "id": "ou1x_wz52wKu"
      }
    },
    {
      "cell_type": "markdown",
      "source": [
        "###Khởi tạo bằng dictionary\n",
        "Mỗi phần tử trong dictionary là một cặp {key: values}, khi khởi tạo dataframe bằng dictionary thì một key sẽ trở thành một tên cột và values sẽ thành list các giá trị của cột đó"
      ],
      "metadata": {
        "id": "mB6GVH2w20FJ"
      }
    },
    {
      "cell_type": "code",
      "source": [
        "\n",
        "\n"
      ],
      "metadata": {
        "id": "cEapRET54iyC"
      },
      "execution_count": null,
      "outputs": []
    },
    {
      "cell_type": "code",
      "source": [
        "dict_columns = {\n",
        "    'books' : ['Your lie in April', 'Weathering with you', '5 centimeters per second'],\n",
        "    'contents': ['Drama', 'Drama', 'Drama'],\n",
        "    'Date' : [2014, 2019, 2013]\n",
        "}\n",
        "df = pd.DataFrame(dict_columns)\n",
        "display(df)"
      ],
      "metadata": {
        "id": "dmuFp2FO3TzZ"
      },
      "execution_count": null,
      "outputs": []
    },
    {
      "cell_type": "markdown",
      "source": [
        "Hàm display của IPython giúp hiển thị trên code khi đang run dưới dạng script file"
      ],
      "metadata": {
        "id": "myKzG_MH6rlO"
      }
    },
    {
      "cell_type": "markdown",
      "source": [
        "###Khởi tạo thông qua list các dòng\n"
      ],
      "metadata": {
        "id": "vV8G3pmX9HMZ"
      }
    },
    {
      "cell_type": "code",
      "source": [
        "data = np.array([['Your lie in April', 'Weathering with you', '5 centimeters per second'],  ['Drama', 'Drama', 'Drama'], [2014, 2019, 2013]]).T\n",
        "df = pd.DataFrame(data = data, columns=['books', 'contents', 'date'])\n",
        "display(df)"
      ],
      "metadata": {
        "id": "sqwTKoyd9MWx"
      },
      "execution_count": null,
      "outputs": []
    },
    {
      "cell_type": "markdown",
      "source": [
        "Để lưu trữ một dataframe dưới dạng csv chúng ta sử dụng .to_csv()"
      ],
      "metadata": {
        "id": "2RiKTXcC9yXK"
      }
    },
    {
      "cell_type": "code",
      "source": [
        "df.to_csv()"
      ],
      "metadata": {
        "id": "niEzPSkz9_Yz"
      },
      "execution_count": null,
      "outputs": []
    },
    {
      "cell_type": "markdown",
      "source": [
        "###Đọc dữ liệu từ file\n",
        "Chúng ta có thể đọc được các file có định dạng là  csv, txt, xls, xlsx, dat bằng cách sử dụng hàm pd.read_csv(). Hàm này còn có thể tải dữ liệu có trên mạng"
      ],
      "metadata": {
        "id": "y1UwodW8-Bjb"
      }
    },
    {
      "cell_type": "code",
      "source": [
        "df = pd.read_csv(\"https://raw.githubusercontent.com/phamdinhkhanh/datasets/master/BostonHousing.csv\", sep=\",\", header = 0, index_col = None)\n",
        "df.head()"
      ],
      "metadata": {
        "id": "H0lC_9LS-m3k"
      },
      "execution_count": null,
      "outputs": []
    },
    {
      "cell_type": "markdown",
      "source": [
        "Hàm df.info() cho chúng ta biết định dạng và số lượng quan sát non-null của mỗi trường"
      ],
      "metadata": {
        "id": "7xIoqaJO_SzO"
      }
    },
    {
      "cell_type": "code",
      "source": [
        "df.info()"
      ],
      "metadata": {
        "id": "_5mSv9LaBhkV"
      },
      "execution_count": null,
      "outputs": []
    },
    {
      "cell_type": "markdown",
      "source": [
        "Chúng ta có thể sử dụng pd.dtypes để kiểm tra định dạng dữ liệu của các trường"
      ],
      "metadata": {
        "id": "UQRFbdy1BmSp"
      }
    },
    {
      "cell_type": "code",
      "source": [
        "df.dtypes"
      ],
      "metadata": {
        "id": "awpQvlm8Bu5P"
      },
      "execution_count": null,
      "outputs": []
    },
    {
      "cell_type": "markdown",
      "source": [
        "Muốn kiểm tra chi tiết hơn các thống kê mô tả như trung bình, phương sai, min, max thì chúng ta sử dụng df.describe()"
      ],
      "metadata": {
        "id": "_0dMwMnGB23x"
      }
    },
    {
      "cell_type": "code",
      "source": [
        "df.describe()"
      ],
      "metadata": {
        "id": "ex4osW3cCAM4"
      },
      "execution_count": null,
      "outputs": []
    },
    {
      "cell_type": "markdown",
      "source": [
        "##Thao tác dataframe\n"
      ],
      "metadata": {
        "id": "pz3Uk_lQCwki"
      }
    },
    {
      "cell_type": "markdown",
      "source": [
        "###Truy cập dataframe\n",
        "Chúng ta có hai các để truy cập dataframe:\n",
        " * **Truy cập theo slice index**:\\\n",
        " Chúng ta chỉ cần truyền vào index của các dòng và cột, truyền vào hàm df.iloc[rows_silce, column_slice]. Các lấy slice cho dòng và cột tương tự như trong list\n",
        "\n",
        " * **Truy cập theo columns name**\\\n",
        " Theo cách này chúng ta có thể truy cập các trường bằng cách khai báo list columns_name của chúng"
      ],
      "metadata": {
        "id": "vOIjCs1JDQ3o"
      }
    },
    {
      "cell_type": "code",
      "source": [
        "df.iloc[0:5, 1:5]"
      ],
      "metadata": {
        "id": "qGJpxD3OEnY-"
      },
      "execution_count": null,
      "outputs": []
    },
    {
      "cell_type": "code",
      "source": [
        "df[['zn', 'chas', 'nox']]"
      ],
      "metadata": {
        "id": "lSY17tQwEyjj"
      },
      "execution_count": null,
      "outputs": []
    },
    {
      "cell_type": "code",
      "source": [
        "#Kết hợp cả hai cách\n",
        "df[['zn', 'chas', 'nox']].iloc[10:15]"
      ],
      "metadata": {
        "id": "v_aNuulqFFCD"
      },
      "execution_count": null,
      "outputs": []
    },
    {
      "cell_type": "markdown",
      "source": [
        "###Lọc dataframe\n"
      ],
      "metadata": {
        "id": "bHoFBXm7GJgk"
      }
    },
    {
      "cell_type": "markdown",
      "source": [
        "Chúng ta có thể lọc các dataframe thông qua các điều kiện của trường. Các điều kiện của trường như một biểu thức logic và bao trong dấu []. Ngoài ra để sử dụng nhiều điều kiện với nhau thì sử dụng các toán tử logic là and và or. Ví dụ như để lọc ra các bản ghi có trường 'rm' lớn hơn 4 chúng ta sử dụng: df[df['rm'] > 4]"
      ],
      "metadata": {
        "id": "W-bFJMMTGQXc"
      }
    },
    {
      "cell_type": "code",
      "source": [
        "df[df['rm'] > 4].head()"
      ],
      "metadata": {
        "id": "DPqllLycG-CD"
      },
      "execution_count": null,
      "outputs": []
    },
    {
      "cell_type": "markdown",
      "source": [
        "Chúng ta còn có thể lọc các trường theo định dạng kiểu dữ liệu bằng cách sử dụng hàm df.select_dtypes() và truyền vào 1 list các định dạng dữ liệu muốn lọc"
      ],
      "metadata": {
        "id": "gCUmGg9uIc5E"
      }
    },
    {
      "cell_type": "code",
      "source": [
        "df.select_dtypes(['float']).head"
      ],
      "metadata": {
        "id": "yhc13AIFIoAt"
      },
      "execution_count": null,
      "outputs": []
    },
    {
      "cell_type": "markdown",
      "source": [
        "Khi làm việc với nhiều dữ liệu, chúng ta sẽ bắt gặp các trường có cùng nhóm với nhau và có chung pattern. Ví dụ như age_1, age_2 .. Muốn lọc được chúng thì chúng ta sử dụng hàm df.filter(regex='', axis)"
      ],
      "metadata": {
        "id": "5b38B31XJAiY"
      }
    },
    {
      "cell_type": "code",
      "source": [
        "df2 = pd.DataFrame({\n",
        "    'name':['a', 'b', 'c', 'd', 'e'],\n",
        "    'age_1':[1, 2, 3, 4, 5],\n",
        "    'age_2':[3, 5, 7, 9 , 10],\n",
        "    'age_3':[2, 5, 2, 5, 6]\n",
        "})\n",
        "\n",
        "df2.head()"
      ],
      "metadata": {
        "id": "c4UsZYg_JXYV"
      },
      "execution_count": null,
      "outputs": []
    },
    {
      "cell_type": "markdown",
      "source": [
        "Như chúng ta thấy age có age_1, age_2, age_3. Chúng có chung pattern là age_x với x là một số tự nhiên từ 1 - 3. Để lọc chúng, chúng ta dùng:"
      ],
      "metadata": {
        "id": "NB6ig6pKJYYr"
      }
    },
    {
      "cell_type": "code",
      "source": [
        "df2.filter(regex='^age', axis = 1).head()"
      ],
      "metadata": {
        "id": "t04CopImJiAQ"
      },
      "execution_count": null,
      "outputs": []
    },
    {
      "cell_type": "markdown",
      "source": [
        "###Sort dữ liệu\n"
      ],
      "metadata": {
        "id": "W0tAO3gjLUZC"
      }
    },
    {
      "cell_type": "markdown",
      "source": [
        "Nhiều trường hợp bạn cần sắp xếp dữ liệu theo chiều từ thấp đến cao hoặc ngược lại để có thể xem đâu là quan sát nhỏ nhất hay lớn nhất và để tạo ra một đồ thị có trend rõ ràng, tìm ra mối quan hệ giữa các biến theo trend. Sử dụng hàm df.sort_values để sort các giá trị trong một hoặc một list các trường. Hàm sẽ ưu tiên sắp xếp của các trường theo thứ tự tên trường trong list truyền vào từ trái qua phải"
      ],
      "metadata": {
        "id": "I018-C0yLYiV"
      }
    },
    {
      "cell_type": "code",
      "source": [
        "df.sort_values(['indus', 'dis'], ascending=False).head()"
      ],
      "metadata": {
        "id": "i2aN_vzQMpCj"
      },
      "execution_count": null,
      "outputs": []
    },
    {
      "cell_type": "markdown",
      "source": [
        "Nếu không muốn các labels sắp xếp lộn xộn chúng ta có thể sử dụng df.sort_index() để sắp xếp các labels theo cột hoặc theo dòng"
      ],
      "metadata": {
        "id": "Jqp4WKL0NbAh"
      }
    },
    {
      "cell_type": "code",
      "source": [
        "df.sort_index(axis = 1).head()"
      ],
      "metadata": {
        "id": "ixyehT8lOFLl"
      },
      "execution_count": null,
      "outputs": []
    },
    {
      "cell_type": "markdown",
      "source": [
        "###Các hàm đối với Trường trong matplotlib"
      ],
      "metadata": {
        "id": "-FbJv9P1R5Ew"
      }
    },
    {
      "cell_type": "markdown",
      "source": [
        "**Hàm cut**\\\n",
        "Hàm cut sẽ chia một trường liên tục thành các khoảng theo ngưỡng cắt. Kết quả trả ra là các nhãn đối với các khoảng đó"
      ],
      "metadata": {
        "id": "5MhAAutOSAPm"
      }
    },
    {
      "cell_type": "code",
      "source": [
        "bins = [-999999, 250, 400, 9999999]\n",
        "labels = ['low', 'normal', 'high']\n",
        "df['tax_labels'] =pd.cut(df['tax'], bins = bins, labels = labels)\n",
        "df[df['tax_labels'] == 'low'].head()"
      ],
      "metadata": {
        "id": "2cWoNYVKSMhI"
      },
      "execution_count": null,
      "outputs": []
    },
    {
      "cell_type": "markdown",
      "source": [
        "**Apply**\\\n",
        "Apply sẽ giúp chúng ta thay đổi giá trị của một thường theo một hàm số xác định trước. Apply không có return vì vậy nó thích hợp với ý nghĩa của lambda. Lambda không yêu cầu giá trị trả về ngay, mà nó chỉ thực hiện tại thời điểm được áp dụng ngầm  định trong một hàm khác, cụ thể là df.apply()"
      ],
      "metadata": {
        "id": "4FE19FtGSCYH"
      }
    },
    {
      "cell_type": "code",
      "source": [
        "df['tax'].apply(lambda x: 2*x).head()\n"
      ],
      "metadata": {
        "id": "vkdPN1KYjo6e"
      },
      "execution_count": null,
      "outputs": []
    },
    {
      "cell_type": "markdown",
      "source": [
        "**Map**\\\n",
        "Map sẽ giúp chúng ta biến đổi giá trị của từng biến trong một hoặc nhiều trường sang giá trị mới dựa trên dictionary chúng ta truyền vào. Key sẽ là giá trị cũ và values sẽ là giá trị mới. Ví dụ với trường tax_labels"
      ],
      "metadata": {
        "id": "LmU1wKjokef-"
      }
    },
    {
      "cell_type": "code",
      "source": [
        "dict_tax = {\n",
        "    'low' : 'thap',\n",
        "    'normal' : 'binh thuong',\n",
        "    'high' : 'cao'\n",
        "}\n",
        "df['tax_labels'].map(dict_tax).head()"
      ],
      "metadata": {
        "id": "1WlRNgWgktk2"
      },
      "execution_count": null,
      "outputs": []
    },
    {
      "cell_type": "markdown",
      "source": [
        "###Biểu đồ matplotlib trên pandas\n"
      ],
      "metadata": {
        "id": "IN75OHmil7UT"
      }
    },
    {
      "cell_type": "markdown",
      "source": [
        "Pandas đã wrap gần như toàn bộ đồ thị cơ bản của matplotlib vào bên trong các hàm thành phần của pandas column , do đó chúng ta có thể dễ dàng visualize, thậm chí chỉ trên một dòng"
      ],
      "metadata": {
        "id": "TnUEGaagl-Rl"
      }
    },
    {
      "cell_type": "markdown",
      "source": [
        "#### Biểu đồ line"
      ],
      "metadata": {
        "id": "wVyHdNkAmYxx"
      }
    },
    {
      "cell_type": "code",
      "source": [
        "df['tax'].plot();"
      ],
      "metadata": {
        "id": "hLz0LR9nmmtB"
      },
      "execution_count": null,
      "outputs": []
    },
    {
      "cell_type": "markdown",
      "source": [
        "####Biểu đồ barchat"
      ],
      "metadata": {
        "id": "0UIEdVxP0VUS"
      }
    },
    {
      "cell_type": "code",
      "source": [
        "df[['tax_labels', 'tax']].groupby('tax_labels').sum().plot.bar()"
      ],
      "metadata": {
        "id": "_p76YQlFzosT"
      },
      "execution_count": null,
      "outputs": []
    },
    {
      "cell_type": "markdown",
      "source": [
        "#Matplotlib\n",
        "* Trong python có nhiều packages hỗ trợ việc dựng đồ thị, visualization. Nhưng vì lí do là một packages được phát triển đầu tiên và sự đóng gói cách hàm của nó trong các chức năng của pandas, seaborn (những thư viện mạnh về xử lí dữ liệu và visualization), mà Maplotlib được sử dụng phổ biến. \n",
        "* Matplotlib hỗ trợ rất mạnh trong việc vẽ các biểu đồ 2D, 3D và chúng ta có thể tùy biến, can thiệp sâu vào style của đồ thị\n",
        "* Hạn chế của Matplotlib là không chia sẻ được đồ thị biểu đồ thông qua API và không có thể tương tác kéo thả ngay trên biểu đồ. Nhưng sự đa dạng của nó đã được mọi người công nhận và nó đã xử lí hầu hết được những công việc cần visualization"
      ],
      "metadata": {
        "id": "bQgdFVnddkZM"
      }
    },
    {
      "cell_type": "markdown",
      "source": [],
      "metadata": {
        "id": "UidwzyPdfSZp"
      }
    },
    {
      "cell_type": "code",
      "source": [
        "df_iris = pd.read_csv(\"https://raw.githubusercontent.com/phamdinhkhanh/datasets/master/iris_train.csv\", header=0, index_col=None)\n",
        "df_iris.head()"
      ],
      "metadata": {
        "id": "6bIUJuazfYWF"
      },
      "execution_count": null,
      "outputs": []
    },
    {
      "cell_type": "markdown",
      "source": [],
      "metadata": {
        "id": "1LfYuAJZ2viR"
      }
    }
  ]
}