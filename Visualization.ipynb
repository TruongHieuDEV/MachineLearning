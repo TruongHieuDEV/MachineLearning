{
  "nbformat": 4,
  "nbformat_minor": 0,
  "metadata": {
    "colab": {
      "private_outputs": true,
      "provenance": [],
      "authorship_tag": "ABX9TyObaK8SScjRV+k0IGYsKMLa",
      "include_colab_link": true
    },
    "kernelspec": {
      "name": "python3",
      "display_name": "Python 3"
    },
    "language_info": {
      "name": "python"
    },
    "accelerator": "GPU",
    "gpuClass": "standard"
  },
  "cells": [
    {
      "cell_type": "markdown",
      "metadata": {
        "id": "view-in-github",
        "colab_type": "text"
      },
      "source": [
        "<a href=\"https://colab.research.google.com/github/TruongHieuDEV/MachineLearning/blob/main/Visualization.ipynb\" target=\"_parent\"><img src=\"https://colab.research.google.com/assets/colab-badge.svg\" alt=\"Open In Colab\"/></a>"
      ]
    },
    {
      "cell_type": "code",
      "execution_count": null,
      "metadata": {
        "id": "FEcGPETicWbN"
      },
      "outputs": [],
      "source": [
        "import pandas as pd\n",
        "import matplotlib.pyplot as plt\n",
        "import numpy as np"
      ]
    },
    {
      "cell_type": "markdown",
      "source": [
        "#Matplotlib\n",
        "* Trong python có nhiều packages hỗ trợ việc dựng đồ thị, visualization. Nhưng vì lí do là một packages được phát triển đầu tiên và sự đóng gói cách hàm của nó trong các chức năng của pandas, seaborn (những thư viện mạnh về xử lí dữ liệu và visualization), mà Maplotlib được sử dụng phổ biến. \n",
        "* Matplotlib hỗ trợ rất mạnh trong việc vẽ các biểu đồ 2D, 3D và chúng ta có thể tùy biến, can thiệp sâu vào style của đồ thị\n",
        "* Hạn chế của Matplotlib là không chia sẻ được đồ thị biểu đồ thông qua API và không có thể tương tác kéo thả ngay trên biểu đồ. Nhưng sự đa dạng của nó đã được mọi người công nhận và nó đã xử lí hầu hết được những công việc cần visualization"
      ],
      "metadata": {
        "id": "bQgdFVnddkZM"
      }
    },
    {
      "cell_type": "markdown",
      "source": [],
      "metadata": {
        "id": "UidwzyPdfSZp"
      }
    },
    {
      "cell_type": "code",
      "source": [
        "df_iris = pd.read_csv(\"https://raw.githubusercontent.com/phamdinhkhanh/datasets/master/iris_train.csv\", header=0, index_col=None)\n",
        "df_iris.head()"
      ],
      "metadata": {
        "id": "6bIUJuazfYWF"
      },
      "execution_count": null,
      "outputs": []
    }
  ]
}