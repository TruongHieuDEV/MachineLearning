{
  "nbformat": 4,
  "nbformat_minor": 0,
  "metadata": {
    "colab": {
      "private_outputs": true,
      "provenance": [],
      "authorship_tag": "ABX9TyNG9RTysSCKygkVUH4snBG+",
      "include_colab_link": true
    },
    "kernelspec": {
      "name": "python3",
      "display_name": "Python 3"
    },
    "language_info": {
      "name": "python"
    }
  },
  "cells": [
    {
      "cell_type": "markdown",
      "metadata": {
        "id": "view-in-github",
        "colab_type": "text"
      },
      "source": [
        "<a href=\"https://colab.research.google.com/github/TruongHieuDEV/MachineLearning/blob/main/PerceptronLearningAlgorithm.ipynb\" target=\"_parent\"><img src=\"https://colab.research.google.com/assets/colab-badge.svg\" alt=\"Open In Colab\"/></a>"
      ]
    },
    {
      "cell_type": "code",
      "source": [
        "!wget --no-check-certificate 'https://docs.google.com/uc?export=download&id=11lVjIsE32svOaD91KIHoVYYqOckRZMOU' -O data_train.csv\n",
        "!wget --no-check-certificate 'https://docs.google.com/uc?export=download&id=1Ng1TyqEF8NXQvhl3hO2j3Prek_dD5VS_' -O data_test.csv"
      ],
      "metadata": {
        "id": "1AQ8XudzWzDb"
      },
      "execution_count": null,
      "outputs": []
    },
    {
      "cell_type": "markdown",
      "source": [
        "Những bài toán classification là những bài toán phân loại, nó sẽ chia thành một số class dựa trên các đặc trưng của bộ dữ liệu. Cơ bản nhất của dạng này là bài toán binary classification. Perceptron là một thuật toán Classification cho trường hợp đơn giản nhất. Dựa vào thuật toán này hu(....)"
      ],
      "metadata": {
        "id": "4EHJHoawc41F"
      }
    },
    {
      "cell_type": "code",
      "source": [
        "import numpy as np \n",
        "import pandas as pd\n",
        "import matplotlib.pyplot as plt\n",
        "import seaborn as sns\n",
        "from sklearn.datasets import load_iris\n",
        "from sklearn.model_selection import train_test_split"
      ],
      "metadata": {
        "id": "RG9dQgQ0eUsj"
      },
      "execution_count": null,
      "outputs": []
    },
    {
      "cell_type": "markdown",
      "source": [],
      "metadata": {
        "id": "QA_N88Q91EE8"
      }
    },
    {
      "cell_type": "markdown",
      "source": [],
      "metadata": {
        "id": "HCOTN6zm3iQ2"
      }
    },
    {
      "cell_type": "code",
      "source": [
        "iris = load_iris()\n",
        "X = iris.data[:, :2].T\n",
        "y =  [1 if i == 0 else -1 for i in iris.target]\n",
        "print(y)"
      ],
      "metadata": {
        "id": "moV4oRP53vC9"
      },
      "execution_count": null,
      "outputs": []
    },
    {
      "cell_type": "code",
      "source": [
        "colors = { -1 : 'deepskyblue', 1 : 'orangered'}\n",
        "plt.scatter(X[0], X[1], c=[colors[s] for s in y])"
      ],
      "metadata": {
        "id": "DGPe57Me4xoM"
      },
      "execution_count": null,
      "outputs": []
    },
    {
      "cell_type": "code",
      "source": [
        "X_test = X.T\n",
        "y_test = y"
      ],
      "metadata": {
        "id": "_ORH-8Ee7x5w"
      },
      "execution_count": null,
      "outputs": []
    },
    {
      "cell_type": "code",
      "source": [
        "Xbar = np.concatenate((X_test.T, np.ones((1, X_test.T.shape[1]))), axis=0)\n",
        "Xbar"
      ],
      "metadata": {
        "id": "2ZRs7rlE608O"
      },
      "execution_count": null,
      "outputs": []
    },
    {
      "cell_type": "code",
      "source": [
        "def h(w, x):\n",
        "  return np.sign(np.dot(w.T, x))"
      ],
      "metadata": {
        "id": "NmCQ_ZYg8Rsq"
      },
      "execution_count": null,
      "outputs": []
    },
    {
      "cell_type": "code",
      "source": [
        "def _has_Converged(X, y, w):\n",
        "  return np.array_equal(h(w, X), y)"
      ],
      "metadata": {
        "id": "IbFjIOdC_ZLx"
      },
      "execution_count": null,
      "outputs": []
    },
    {
      "cell_type": "code",
      "source": [
        "def _count_Miscl (X, y, w):\n",
        "  return np.sum(h(w, X) != y)"
      ],
      "metadata": {
        "id": "zoy7GnwKd6Xf"
      },
      "execution_count": null,
      "outputs": []
    },
    {
      "cell_type": "code",
      "source": [
        "def _perceptron_Learning_Algorithm(Xbar, y, w_init):\n",
        "  w = [w_init]\n",
        "  N = Xbar.shape[1]\n",
        "  misclassified = []\n",
        "  cnt = 0\n",
        "  cnt_mis_fl_w = []\n",
        "  while cnt < 100000:\n",
        "    per_id = np.random.permutation(N)\n",
        "    for i in range(N):\n",
        "      H = h(w[-1], Xbar[ :, per_id[i]])\n",
        "      if H != y[per_id[i]]:\n",
        "        w_new = w[-1] + y[per_id[i]] * Xbar[ : ,per_id[i]]\n",
        "        if (_count_Miscl(Xbar, y, w_new) < _count_Miscl(Xbar, y, w[-1])):\n",
        "          w.append(w_new)\n",
        "        misclassified.append(per_id[i])\n",
        "    if (_has_Converged(Xbar, y, w[-1])):\n",
        "      break\n",
        "    cnt += 1\n",
        "  return w, misclassified\n",
        "d = Xbar.shape[0] \n",
        "w_init = np.random.randn(1, d)\n",
        "w, mis = _perceptron_Learning_Algorithm(Xbar, y_test, w_init[-1])"
      ],
      "metadata": {
        "id": "oIRB0RiP_ZuT"
      },
      "execution_count": null,
      "outputs": []
    },
    {
      "cell_type": "markdown",
      "source": [],
      "metadata": {
        "id": "XW7oU47mOwQU"
      }
    },
    {
      "cell_type": "code",
      "source": [
        "def _draw_Line(i):\n",
        "  w1, w2, w3 = w[i]\n",
        "  x_min = np.min(Xbar[0]) * 0.95\n",
        "  x_max = np.max(Xbar[0]) * 1.05\n",
        "  \n",
        "  if (w2 != 0):\n",
        "    return plt.plot([x_min, x_max], [-(x_min * w1 + w3)/w2, -(x_max * w1 + w3) / w2], '-')\n",
        "  else:\n",
        "    x10 = -w3/w1\n",
        "    return plt.plot([x10, x10], [-100, 100], 'k')\n"
      ],
      "metadata": {
        "id": "x_oa3y48MIdM"
      },
      "execution_count": null,
      "outputs": []
    },
    {
      "cell_type": "code",
      "source": [
        "_draw_Line(-1)\n",
        "colors = { -1 : 'deepskyblue', 1 : 'orangered'}\n",
        "plt.scatter(X[0], X[1], c=[colors[s] for s in y])"
      ],
      "metadata": {
        "id": "hMHf1LfwebTE"
      },
      "execution_count": null,
      "outputs": []
    },
    {
      "cell_type": "markdown",
      "source": [
        "\n",
        "\n",
        "> Công thức sigmoid:\\\n",
        "  $f(s) = \\frac{1}{1 + e^{-s}}$\\\n",
        "  $\\lim_{x \\to -\\infty}\\sigma(s) = 0$; $\\lim_{x \\to \\infty}\\sigma(s) = 1$\\\n",
        "  $\\sigma(s)^{'} = \\frac{e^{-s}}{(1 + e^{-s})^2} = \\sigma(s) * (1 - \\sigma(s))$\n",
        "\n",
        "\n",
        "> Công thức tanh(s):\\\n",
        "  $tanh(s) = \\frac{e^{s} - e^{-s}}{e^{s} + e^{-s}}$\n",
        "\n",
        "\n",
        "\n"
      ],
      "metadata": {
        "id": "r4m9Njb23jIz"
      }
    },
    {
      "cell_type": "code",
      "source": [],
      "metadata": {
        "id": "IBT3xxsv9PR4"
      },
      "execution_count": null,
      "outputs": []
    },
    {
      "cell_type": "markdown",
      "source": [],
      "metadata": {
        "id": "jWGU5q6gThIf"
      }
    }
  ]
}