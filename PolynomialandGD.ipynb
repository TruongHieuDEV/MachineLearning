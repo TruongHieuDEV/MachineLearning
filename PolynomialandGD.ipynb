{
  "cells": [
    {
      "cell_type": "markdown",
      "metadata": {
        "id": "view-in-github",
        "colab_type": "text"
      },
      "source": [
        "<a href=\"https://colab.research.google.com/github/TruongHieuDEV/MachineLearning/blob/main/PolynomialandGD.ipynb\" target=\"_parent\"><img src=\"https://colab.research.google.com/assets/colab-badge.svg\" alt=\"Open In Colab\"/></a>"
      ]
    },
    {
      "cell_type": "code",
      "execution_count": 21,
      "metadata": {
        "colab": {
          "base_uri": "https://localhost:8080/"
        },
        "id": "7zMpQSkQr-Ib",
        "outputId": "83330776-9833-4ee5-c3b2-a99597bc7afb"
      },
      "outputs": [
        {
          "output_type": "stream",
          "name": "stdout",
          "text": [
            "--2023-04-17 04:38:36--  https://cf-courses-data.s3.us.cloud-object-storage.appdomain.cloud/IBMDeveloperSkillsNetwork-ML0101EN-SkillsNetwork/labs/Module%202/data/FuelConsumptionCo2.csv\n",
            "Resolving cf-courses-data.s3.us.cloud-object-storage.appdomain.cloud (cf-courses-data.s3.us.cloud-object-storage.appdomain.cloud)... 169.45.118.108\n",
            "Connecting to cf-courses-data.s3.us.cloud-object-storage.appdomain.cloud (cf-courses-data.s3.us.cloud-object-storage.appdomain.cloud)|169.45.118.108|:443... connected.\n",
            "HTTP request sent, awaiting response... 200 OK\n",
            "Length: 72629 (71K) [text/csv]\n",
            "Saving to: ‘FuelConsumption.csv’\n",
            "\n",
            "FuelConsumption.csv 100%[===================>]  70.93K  --.-KB/s    in 0.1s    \n",
            "\n",
            "2023-04-17 04:38:37 (696 KB/s) - ‘FuelConsumption.csv’ saved [72629/72629]\n",
            "\n",
            "--2023-04-17 04:38:37--  https://docs.google.com/uc?export=download&id=1XnW3PiBiHIuanDQmSiLNoc1toAaMBxOY\n",
            "Resolving docs.google.com (docs.google.com)... 142.250.99.100, 142.250.99.102, 142.250.99.113, ...\n",
            "Connecting to docs.google.com (docs.google.com)|142.250.99.100|:443... connected.\n",
            "HTTP request sent, awaiting response... 303 See Other\n",
            "Location: https://doc-04-ac-docs.googleusercontent.com/docs/securesc/ha0ro937gcuc7l7deffksulhg5h7mbp1/ijphhh44sbs5otruou2f8ui8v8v1ditr/1681706250000/17354520728273132212/*/1XnW3PiBiHIuanDQmSiLNoc1toAaMBxOY?e=download&uuid=f0f1d0f1-13a8-4f79-88c8-e2f72c573f6e [following]\n",
            "Warning: wildcards not supported in HTTP.\n",
            "--2023-04-17 04:38:37--  https://doc-04-ac-docs.googleusercontent.com/docs/securesc/ha0ro937gcuc7l7deffksulhg5h7mbp1/ijphhh44sbs5otruou2f8ui8v8v1ditr/1681706250000/17354520728273132212/*/1XnW3PiBiHIuanDQmSiLNoc1toAaMBxOY?e=download&uuid=f0f1d0f1-13a8-4f79-88c8-e2f72c573f6e\n",
            "Resolving doc-04-ac-docs.googleusercontent.com (doc-04-ac-docs.googleusercontent.com)... 74.125.195.132, 2607:f8b0:400e:c09::84\n",
            "Connecting to doc-04-ac-docs.googleusercontent.com (doc-04-ac-docs.googleusercontent.com)|74.125.195.132|:443... connected.\n",
            "HTTP request sent, awaiting response... 200 OK\n",
            "Length: 109066 (107K) [text/csv]\n",
            "Saving to: ‘dataset3.csv’\n",
            "\n",
            "dataset3.csv        100%[===================>] 106.51K  --.-KB/s    in 0.001s  \n",
            "\n",
            "2023-04-17 04:38:37 (132 MB/s) - ‘dataset3.csv’ saved [109066/109066]\n",
            "\n"
          ]
        }
      ],
      "source": [
        "!wget -O FuelConsumption.csv https://cf-courses-data.s3.us.cloud-object-storage.appdomain.cloud/IBMDeveloperSkillsNetwork-ML0101EN-SkillsNetwork/labs/Module%202/data/FuelConsumptionCo2.csv\n",
        "!wget --no-check-certificate 'https://docs.google.com/uc?export=download&id=1XnW3PiBiHIuanDQmSiLNoc1toAaMBxOY' -O dataset3.csv"
      ]
    },
    {
      "cell_type": "markdown",
      "metadata": {
        "id": "IK2uHRqhxf39"
      },
      "source": [
        "Buổi học trước chúng ta đã cùng nhau tìm hiểu về thuật toán **polynomial regression** và **gradient descent**. Nhóm 1 đã trình bày về 2 thuật toán này bên dưới, mọi người hãy cùng nhau tham khảo ạ!!!"
      ]
    },
    {
      "cell_type": "code",
      "execution_count": 22,
      "metadata": {
        "id": "M1lIwGuqsCW0"
      },
      "outputs": [],
      "source": [
        "import numpy as np\n",
        "import pandas as pd\n",
        "import matplotlib.pyplot as plt\n",
        "import seaborn as sns\n",
        "from mpl_toolkits import mplot3d\n",
        "\n",
        "%matplotlib inline\n",
        "sns.set_context('notebook')"
      ]
    },
    {
      "cell_type": "markdown",
      "metadata": {
        "id": "rHLGGwc2tzJA"
      },
      "source": [
        "#Polynomial Regression\n",
        "\n"
      ]
    },
    {
      "cell_type": "markdown",
      "metadata": {
        "id": "FnPxdTmqt3WY"
      },
      "source": [
        "##Lấy dữ liệu\n",
        "\n"
      ]
    },
    {
      "cell_type": "code",
      "execution_count": 23,
      "metadata": {
        "colab": {
          "base_uri": "https://localhost:8080/",
          "height": 206
        },
        "id": "Whjz1nDQuYhz",
        "outputId": "421de10c-e90e-4d8f-a20c-90d4c73521c3"
      },
      "outputs": [
        {
          "output_type": "execute_result",
          "data": {
            "text/plain": [
              "   Unnamed: 0         y   x0        x1        x2        x3        x4\n",
              "0           0 -0.245841  1.0 -0.383285  0.146907 -0.056307  0.021582\n",
              "1           1  1.839005  1.0  0.831785  0.691866  0.575484  0.478679\n",
              "2           2  0.859224  1.0  0.415071  0.172284  0.071510  0.029682\n",
              "3           3 -0.174309  1.0 -0.628672  0.395228 -0.248469  0.156205\n",
              "4           4  0.013225  1.0 -0.087517  0.007659 -0.000670  0.000059"
            ],
            "text/html": [
              "\n",
              "  <div id=\"df-3c26856f-e48f-4deb-9029-a1b19f3d93a3\">\n",
              "    <div class=\"colab-df-container\">\n",
              "      <div>\n",
              "<style scoped>\n",
              "    .dataframe tbody tr th:only-of-type {\n",
              "        vertical-align: middle;\n",
              "    }\n",
              "\n",
              "    .dataframe tbody tr th {\n",
              "        vertical-align: top;\n",
              "    }\n",
              "\n",
              "    .dataframe thead th {\n",
              "        text-align: right;\n",
              "    }\n",
              "</style>\n",
              "<table border=\"1\" class=\"dataframe\">\n",
              "  <thead>\n",
              "    <tr style=\"text-align: right;\">\n",
              "      <th></th>\n",
              "      <th>Unnamed: 0</th>\n",
              "      <th>y</th>\n",
              "      <th>x0</th>\n",
              "      <th>x1</th>\n",
              "      <th>x2</th>\n",
              "      <th>x3</th>\n",
              "      <th>x4</th>\n",
              "    </tr>\n",
              "  </thead>\n",
              "  <tbody>\n",
              "    <tr>\n",
              "      <th>0</th>\n",
              "      <td>0</td>\n",
              "      <td>-0.245841</td>\n",
              "      <td>1.0</td>\n",
              "      <td>-0.383285</td>\n",
              "      <td>0.146907</td>\n",
              "      <td>-0.056307</td>\n",
              "      <td>0.021582</td>\n",
              "    </tr>\n",
              "    <tr>\n",
              "      <th>1</th>\n",
              "      <td>1</td>\n",
              "      <td>1.839005</td>\n",
              "      <td>1.0</td>\n",
              "      <td>0.831785</td>\n",
              "      <td>0.691866</td>\n",
              "      <td>0.575484</td>\n",
              "      <td>0.478679</td>\n",
              "    </tr>\n",
              "    <tr>\n",
              "      <th>2</th>\n",
              "      <td>2</td>\n",
              "      <td>0.859224</td>\n",
              "      <td>1.0</td>\n",
              "      <td>0.415071</td>\n",
              "      <td>0.172284</td>\n",
              "      <td>0.071510</td>\n",
              "      <td>0.029682</td>\n",
              "    </tr>\n",
              "    <tr>\n",
              "      <th>3</th>\n",
              "      <td>3</td>\n",
              "      <td>-0.174309</td>\n",
              "      <td>1.0</td>\n",
              "      <td>-0.628672</td>\n",
              "      <td>0.395228</td>\n",
              "      <td>-0.248469</td>\n",
              "      <td>0.156205</td>\n",
              "    </tr>\n",
              "    <tr>\n",
              "      <th>4</th>\n",
              "      <td>4</td>\n",
              "      <td>0.013225</td>\n",
              "      <td>1.0</td>\n",
              "      <td>-0.087517</td>\n",
              "      <td>0.007659</td>\n",
              "      <td>-0.000670</td>\n",
              "      <td>0.000059</td>\n",
              "    </tr>\n",
              "  </tbody>\n",
              "</table>\n",
              "</div>\n",
              "      <button class=\"colab-df-convert\" onclick=\"convertToInteractive('df-3c26856f-e48f-4deb-9029-a1b19f3d93a3')\"\n",
              "              title=\"Convert this dataframe to an interactive table.\"\n",
              "              style=\"display:none;\">\n",
              "        \n",
              "  <svg xmlns=\"http://www.w3.org/2000/svg\" height=\"24px\"viewBox=\"0 0 24 24\"\n",
              "       width=\"24px\">\n",
              "    <path d=\"M0 0h24v24H0V0z\" fill=\"none\"/>\n",
              "    <path d=\"M18.56 5.44l.94 2.06.94-2.06 2.06-.94-2.06-.94-.94-2.06-.94 2.06-2.06.94zm-11 1L8.5 8.5l.94-2.06 2.06-.94-2.06-.94L8.5 2.5l-.94 2.06-2.06.94zm10 10l.94 2.06.94-2.06 2.06-.94-2.06-.94-.94-2.06-.94 2.06-2.06.94z\"/><path d=\"M17.41 7.96l-1.37-1.37c-.4-.4-.92-.59-1.43-.59-.52 0-1.04.2-1.43.59L10.3 9.45l-7.72 7.72c-.78.78-.78 2.05 0 2.83L4 21.41c.39.39.9.59 1.41.59.51 0 1.02-.2 1.41-.59l7.78-7.78 2.81-2.81c.8-.78.8-2.07 0-2.86zM5.41 20L4 18.59l7.72-7.72 1.47 1.35L5.41 20z\"/>\n",
              "  </svg>\n",
              "      </button>\n",
              "      \n",
              "  <style>\n",
              "    .colab-df-container {\n",
              "      display:flex;\n",
              "      flex-wrap:wrap;\n",
              "      gap: 12px;\n",
              "    }\n",
              "\n",
              "    .colab-df-convert {\n",
              "      background-color: #E8F0FE;\n",
              "      border: none;\n",
              "      border-radius: 50%;\n",
              "      cursor: pointer;\n",
              "      display: none;\n",
              "      fill: #1967D2;\n",
              "      height: 32px;\n",
              "      padding: 0 0 0 0;\n",
              "      width: 32px;\n",
              "    }\n",
              "\n",
              "    .colab-df-convert:hover {\n",
              "      background-color: #E2EBFA;\n",
              "      box-shadow: 0px 1px 2px rgba(60, 64, 67, 0.3), 0px 1px 3px 1px rgba(60, 64, 67, 0.15);\n",
              "      fill: #174EA6;\n",
              "    }\n",
              "\n",
              "    [theme=dark] .colab-df-convert {\n",
              "      background-color: #3B4455;\n",
              "      fill: #D2E3FC;\n",
              "    }\n",
              "\n",
              "    [theme=dark] .colab-df-convert:hover {\n",
              "      background-color: #434B5C;\n",
              "      box-shadow: 0px 1px 3px 1px rgba(0, 0, 0, 0.15);\n",
              "      filter: drop-shadow(0px 1px 2px rgba(0, 0, 0, 0.3));\n",
              "      fill: #FFFFFF;\n",
              "    }\n",
              "  </style>\n",
              "\n",
              "      <script>\n",
              "        const buttonEl =\n",
              "          document.querySelector('#df-3c26856f-e48f-4deb-9029-a1b19f3d93a3 button.colab-df-convert');\n",
              "        buttonEl.style.display =\n",
              "          google.colab.kernel.accessAllowed ? 'block' : 'none';\n",
              "\n",
              "        async function convertToInteractive(key) {\n",
              "          const element = document.querySelector('#df-3c26856f-e48f-4deb-9029-a1b19f3d93a3');\n",
              "          const dataTable =\n",
              "            await google.colab.kernel.invokeFunction('convertToInteractive',\n",
              "                                                     [key], {});\n",
              "          if (!dataTable) return;\n",
              "\n",
              "          const docLinkHtml = 'Like what you see? Visit the ' +\n",
              "            '<a target=\"_blank\" href=https://colab.research.google.com/notebooks/data_table.ipynb>data table notebook</a>'\n",
              "            + ' to learn more about interactive tables.';\n",
              "          element.innerHTML = '';\n",
              "          dataTable['output_type'] = 'display_data';\n",
              "          await google.colab.output.renderOutput(dataTable, element);\n",
              "          const docLink = document.createElement('div');\n",
              "          docLink.innerHTML = docLinkHtml;\n",
              "          element.appendChild(docLink);\n",
              "        }\n",
              "      </script>\n",
              "    </div>\n",
              "  </div>\n",
              "  "
            ]
          },
          "metadata": {},
          "execution_count": 23
        }
      ],
      "source": [
        "\n",
        "df = pd.read_csv('dataset3.csv')\n",
        "df.head()"
      ]
    },
    {
      "cell_type": "markdown",
      "metadata": {
        "id": "f0hZZNrhubku"
      },
      "source": [
        "Ta chỉ xét hồi quy đa thức cho biến y đối với x1. Trước hết hãy visualize dữ liệu"
      ]
    },
    {
      "cell_type": "code",
      "execution_count": 24,
      "metadata": {
        "colab": {
          "base_uri": "https://localhost:8080/",
          "height": 434
        },
        "id": "eVhnVqpqufYY",
        "outputId": "ac24d3f5-3a03-4996-993d-82a3abc6ce05"
      },
      "outputs": [
        {
          "output_type": "display_data",
          "data": {
            "text/plain": [
              "<Figure size 640x480 with 1 Axes>"
            ],
            "image/png": "[encoded data removed]"
          },
          "metadata": {}
        }
      ],
      "source": [
        "plt.plot()\n",
        "plt.plot(df.x1, df.y, 'r.')\n",
        "plt.show()"
      ]
    },
    {
      "cell_type": "markdown",
      "metadata": {
        "id": "Y4pEj8d5uhjO"
      },
      "source": [
        "### Xác định mô hình đa thức\n"
      ]
    },
    {
      "cell_type": "code",
      "execution_count": 25,
      "metadata": {
        "colab": {
          "base_uri": "https://localhost:8080/"
        },
        "id": "0lKL4lmpukLD",
        "outputId": "dfa0c002-ca5b-4d2b-ddb3-ca4876593c72"
      },
      "outputs": [
        {
          "output_type": "execute_result",
          "data": {
            "text/plain": [
              "0.02959090688282679"
            ]
          },
          "metadata": {},
          "execution_count": 25
        }
      ],
      "source": [
        "#Enter your code here\n",
        "def transfer_deg(X, deg):\n",
        "    res = X.copy()\n",
        "    for i in range(2, deg + 1):\n",
        "        res = np.concatenate((res, X**i))\n",
        "    return res.reshape((deg, X.shape[0])).T\n",
        "\n",
        "\n",
        "x1 = pd.Series.to_numpy(df.x1)\n",
        "f1 = transfer_deg(x1, 4)\n",
        "\n",
        "y = pd.Series.to_numpy(df.y)\n",
        "Xbar = np.concatenate((f1, np.ones((f1.shape[0], 1))), axis=1)\n",
        "A = Xbar.T @ Xbar\n",
        "b = Xbar.T @ y\n",
        "w = np.linalg.pinv(A) @ b\n",
        "def predict(X):\n",
        "    global w, bias\n",
        "    return X @ w\n",
        "def compute_cost(Y, Y_):\n",
        "    return np.mean((Y - Y_)**2)\n",
        "compute_cost(y, predict(Xbar))"
      ]
    },
    {
      "cell_type": "markdown",
      "metadata": {
        "id": "wJG7uijKvLxC"
      },
      "source": [
        "## Trực quan hoá dữ liệu\n",
        "\n"
      ]
    },
    {
      "cell_type": "code",
      "execution_count": 26,
      "metadata": {
        "colab": {
          "base_uri": "https://localhost:8080/",
          "height": 434
        },
        "id": "hWTeKNaovNGt",
        "outputId": "6caf017d-20d8-427c-8061-aac70886e4d0"
      },
      "outputs": [
        {
          "output_type": "display_data",
          "data": {
            "text/plain": [
              "<Figure size 640x480 with 1 Axes>"
            ],
            "image/png": "[encoded data removed]"
          },
          "metadata": {}
        }
      ],
      "source": [
        "vtX = np.linspace(-2, 3, 1000)\n",
        "\n",
        "plt.plot(df.x1, df.y, 'r.')\n",
        "vtY = w[0] * vtX + w[1]  * vtX**2  + w[2] *vtX  ** 3 + w[3] * vtX ** 4+ w[4]\n",
        "# print(vtY)\n",
        "plt.plot(vtX, vtY, 'blue') \n",
        "plt.show()"
      ]
    },
    {
      "cell_type": "markdown",
      "metadata": {
        "id": "czHsHTNRsfHk"
      },
      "source": [
        "#Gradient Desent"
      ]
    },
    {
      "cell_type": "code",
      "execution_count": 27,
      "metadata": {
        "colab": {
          "base_uri": "https://localhost:8080/",
          "height": 322
        },
        "id": "NGTmXmiVsKFa",
        "outputId": "327bb4ca-2991-4ce0-c8f0-1624d74f0fb7"
      },
      "outputs": [
        {
          "output_type": "execute_result",
          "data": {
            "text/plain": [
              "   MODELYEAR   MAKE       MODEL VEHICLECLASS  ENGINESIZE  CYLINDERS  \\\n",
              "0       2014  ACURA         ILX      COMPACT         2.0          4   \n",
              "1       2014  ACURA         ILX      COMPACT         2.4          4   \n",
              "2       2014  ACURA  ILX HYBRID      COMPACT         1.5          4   \n",
              "3       2014  ACURA     MDX 4WD  SUV - SMALL         3.5          6   \n",
              "4       2014  ACURA     RDX AWD  SUV - SMALL         3.5          6   \n",
              "\n",
              "  TRANSMISSION FUELTYPE  FUELCONSUMPTION_CITY  FUELCONSUMPTION_HWY  \\\n",
              "0          AS5        Z                   9.9                  6.7   \n",
              "1           M6        Z                  11.2                  7.7   \n",
              "2          AV7        Z                   6.0                  5.8   \n",
              "3          AS6        Z                  12.7                  9.1   \n",
              "4          AS6        Z                  12.1                  8.7   \n",
              "\n",
              "   FUELCONSUMPTION_COMB  FUELCONSUMPTION_COMB_MPG  CO2EMISSIONS  \n",
              "0                   8.5                        33           196  \n",
              "1                   9.6                        29           221  \n",
              "2                   5.9                        48           136  \n",
              "3                  11.1                        25           255  \n",
              "4                  10.6                        27           244  "
            ],
            "text/html": [
              "\n",
              "  <div id=\"df-6a805a34-f34d-4d22-a312-8c7e145782e0\">\n",
              "    <div class=\"colab-df-container\">\n",
              "      <div>\n",
              "<style scoped>\n",
              "    .dataframe tbody tr th:only-of-type {\n",
              "        vertical-align: middle;\n",
              "    }\n",
              "\n",
              "    .dataframe tbody tr th {\n",
              "        vertical-align: top;\n",
              "    }\n",
              "\n",
              "    .dataframe thead th {\n",
              "        text-align: right;\n",
              "    }\n",
              "</style>\n",
              "<table border=\"1\" class=\"dataframe\">\n",
              "  <thead>\n",
              "    <tr style=\"text-align: right;\">\n",
              "      <th></th>\n",
              "      <th>MODELYEAR</th>\n",
              "      <th>MAKE</th>\n",
              "      <th>MODEL</th>\n",
              "      <th>VEHICLECLASS</th>\n",
              "      <th>ENGINESIZE</th>\n",
              "      <th>CYLINDERS</th>\n",
              "      <th>TRANSMISSION</th>\n",
              "      <th>FUELTYPE</th>\n",
              "      <th>FUELCONSUMPTION_CITY</th>\n",
              "      <th>FUELCONSUMPTION_HWY</th>\n",
              "      <th>FUELCONSUMPTION_COMB</th>\n",
              "      <th>FUELCONSUMPTION_COMB_MPG</th>\n",
              "      <th>CO2EMISSIONS</th>\n",
              "    </tr>\n",
              "  </thead>\n",
              "  <tbody>\n",
              "    <tr>\n",
              "      <th>0</th>\n",
              "      <td>2014</td>\n",
              "      <td>ACURA</td>\n",
              "      <td>ILX</td>\n",
              "      <td>COMPACT</td>\n",
              "      <td>2.0</td>\n",
              "      <td>4</td>\n",
              "      <td>AS5</td>\n",
              "      <td>Z</td>\n",
              "      <td>9.9</td>\n",
              "      <td>6.7</td>\n",
              "      <td>8.5</td>\n",
              "      <td>33</td>\n",
              "      <td>196</td>\n",
              "    </tr>\n",
              "    <tr>\n",
              "      <th>1</th>\n",
              "      <td>2014</td>\n",
              "      <td>ACURA</td>\n",
              "      <td>ILX</td>\n",
              "      <td>COMPACT</td>\n",
              "      <td>2.4</td>\n",
              "      <td>4</td>\n",
              "      <td>M6</td>\n",
              "      <td>Z</td>\n",
              "      <td>11.2</td>\n",
              "      <td>7.7</td>\n",
              "      <td>9.6</td>\n",
              "      <td>29</td>\n",
              "      <td>221</td>\n",
              "    </tr>\n",
              "    <tr>\n",
              "      <th>2</th>\n",
              "      <td>2014</td>\n",
              "      <td>ACURA</td>\n",
              "      <td>ILX HYBRID</td>\n",
              "      <td>COMPACT</td>\n",
              "      <td>1.5</td>\n",
              "      <td>4</td>\n",
              "      <td>AV7</td>\n",
              "      <td>Z</td>\n",
              "      <td>6.0</td>\n",
              "      <td>5.8</td>\n",
              "      <td>5.9</td>\n",
              "      <td>48</td>\n",
              "      <td>136</td>\n",
              "    </tr>\n",
              "    <tr>\n",
              "      <th>3</th>\n",
              "      <td>2014</td>\n",
              "      <td>ACURA</td>\n",
              "      <td>MDX 4WD</td>\n",
              "      <td>SUV - SMALL</td>\n",
              "      <td>3.5</td>\n",
              "      <td>6</td>\n",
              "      <td>AS6</td>\n",
              "      <td>Z</td>\n",
              "      <td>12.7</td>\n",
              "      <td>9.1</td>\n",
              "      <td>11.1</td>\n",
              "      <td>25</td>\n",
              "      <td>255</td>\n",
              "    </tr>\n",
              "    <tr>\n",
              "      <th>4</th>\n",
              "      <td>2014</td>\n",
              "      <td>ACURA</td>\n",
              "      <td>RDX AWD</td>\n",
              "      <td>SUV - SMALL</td>\n",
              "      <td>3.5</td>\n",
              "      <td>6</td>\n",
              "      <td>AS6</td>\n",
              "      <td>Z</td>\n",
              "      <td>12.1</td>\n",
              "      <td>8.7</td>\n",
              "      <td>10.6</td>\n",
              "      <td>27</td>\n",
              "      <td>244</td>\n",
              "    </tr>\n",
              "  </tbody>\n",
              "</table>\n",
              "</div>\n",
              "      <button class=\"colab-df-convert\" onclick=\"convertToInteractive('df-6a805a34-f34d-4d22-a312-8c7e145782e0')\"\n",
              "              title=\"Convert this dataframe to an interactive table.\"\n",
              "              style=\"display:none;\">\n",
              "        \n",
              "  <svg xmlns=\"http://www.w3.org/2000/svg\" height=\"24px\"viewBox=\"0 0 24 24\"\n",
              "       width=\"24px\">\n",
              "    <path d=\"M0 0h24v24H0V0z\" fill=\"none\"/>\n",
              "    <path d=\"M18.56 5.44l.94 2.06.94-2.06 2.06-.94-2.06-.94-.94-2.06-.94 2.06-2.06.94zm-11 1L8.5 8.5l.94-2.06 2.06-.94-2.06-.94L8.5 2.5l-.94 2.06-2.06.94zm10 10l.94 2.06.94-2.06 2.06-.94-2.06-.94-.94-2.06-.94 2.06-2.06.94z\"/><path d=\"M17.41 7.96l-1.37-1.37c-.4-.4-.92-.59-1.43-.59-.52 0-1.04.2-1.43.59L10.3 9.45l-7.72 7.72c-.78.78-.78 2.05 0 2.83L4 21.41c.39.39.9.59 1.41.59.51 0 1.02-.2 1.41-.59l7.78-7.78 2.81-2.81c.8-.78.8-2.07 0-2.86zM5.41 20L4 18.59l7.72-7.72 1.47 1.35L5.41 20z\"/>\n",
              "  </svg>\n",
              "      </button>\n",
              "      \n",
              "  <style>\n",
              "    .colab-df-container {\n",
              "      display:flex;\n",
              "      flex-wrap:wrap;\n",
              "      gap: 12px;\n",
              "    }\n",
              "\n",
              "    .colab-df-convert {\n",
              "      background-color: #E8F0FE;\n",
              "      border: none;\n",
              "      border-radius: 50%;\n",
              "      cursor: pointer;\n",
              "      display: none;\n",
              "      fill: #1967D2;\n",
              "      height: 32px;\n",
              "      padding: 0 0 0 0;\n",
              "      width: 32px;\n",
              "    }\n",
              "\n",
              "    .colab-df-convert:hover {\n",
              "      background-color: #E2EBFA;\n",
              "      box-shadow: 0px 1px 2px rgba(60, 64, 67, 0.3), 0px 1px 3px 1px rgba(60, 64, 67, 0.15);\n",
              "      fill: #174EA6;\n",
              "    }\n",
              "\n",
              "    [theme=dark] .colab-df-convert {\n",
              "      background-color: #3B4455;\n",
              "      fill: #D2E3FC;\n",
              "    }\n",
              "\n",
              "    [theme=dark] .colab-df-convert:hover {\n",
              "      background-color: #434B5C;\n",
              "      box-shadow: 0px 1px 3px 1px rgba(0, 0, 0, 0.15);\n",
              "      filter: drop-shadow(0px 1px 2px rgba(0, 0, 0, 0.3));\n",
              "      fill: #FFFFFF;\n",
              "    }\n",
              "  </style>\n",
              "\n",
              "      <script>\n",
              "        const buttonEl =\n",
              "          document.querySelector('#df-6a805a34-f34d-4d22-a312-8c7e145782e0 button.colab-df-convert');\n",
              "        buttonEl.style.display =\n",
              "          google.colab.kernel.accessAllowed ? 'block' : 'none';\n",
              "\n",
              "        async function convertToInteractive(key) {\n",
              "          const element = document.querySelector('#df-6a805a34-f34d-4d22-a312-8c7e145782e0');\n",
              "          const dataTable =\n",
              "            await google.colab.kernel.invokeFunction('convertToInteractive',\n",
              "                                                     [key], {});\n",
              "          if (!dataTable) return;\n",
              "\n",
              "          const docLinkHtml = 'Like what you see? Visit the ' +\n",
              "            '<a target=\"_blank\" href=https://colab.research.google.com/notebooks/data_table.ipynb>data table notebook</a>'\n",
              "            + ' to learn more about interactive tables.';\n",
              "          element.innerHTML = '';\n",
              "          dataTable['output_type'] = 'display_data';\n",
              "          await google.colab.output.renderOutput(dataTable, element);\n",
              "          const docLink = document.createElement('div');\n",
              "          docLink.innerHTML = docLinkHtml;\n",
              "          element.appendChild(docLink);\n",
              "        }\n",
              "      </script>\n",
              "    </div>\n",
              "  </div>\n",
              "  "
            ]
          },
          "metadata": {},
          "execution_count": 27
        }
      ],
      "source": [
        "df = pd.read_csv('FuelConsumption.csv')\n",
        "df.head()"
      ]
    },
    {
      "cell_type": "markdown",
      "metadata": {
        "id": "rXqN6bbuseMX"
      },
      "source": []
    },
    {
      "cell_type": "code",
      "execution_count": 28,
      "metadata": {
        "colab": {
          "base_uri": "https://localhost:8080/"
        },
        "id": "5HmJcah6vFLr",
        "outputId": "ce9ebf33-4eea-4e1f-b128-1540c7f6ba63"
      },
      "outputs": [
        {
          "output_type": "stream",
          "name": "stdout",
          "text": [
            "       HWY  COMB_MPG  CO2EMISSIONS\n",
            "0      6.7        33           196\n",
            "1      7.7        29           221\n",
            "2      5.8        48           136\n",
            "3      9.1        25           255\n",
            "4      8.7        27           244\n",
            "...    ...       ...           ...\n",
            "1062   9.8        24           271\n",
            "1063   9.5        25           264\n",
            "1064   9.8        24           271\n",
            "1065   9.3        25           260\n",
            "1066  10.2        22           294\n",
            "\n",
            "[1067 rows x 3 columns]\n"
          ]
        }
      ],
      "source": [
        "data = df[['FUELCONSUMPTION_HWY', 'FUELCONSUMPTION_COMB_MPG', 'CO2EMISSIONS']]\\\n",
        "        .rename(columns={'FUELCONSUMPTION_HWY': 'HWY',\n",
        "                 'FUELCONSUMPTION_COMB_MPG': 'COMB_MPG'})\n",
        "print(data)\n"
      ]
    },
    {
      "cell_type": "code",
      "execution_count": 29,
      "metadata": {
        "colab": {
          "base_uri": "https://localhost:8080/",
          "height": 458
        },
        "id": "9yjsSVm5xqII",
        "outputId": "401135d7-f79a-4930-b4cd-f06f1a4f5e79"
      },
      "outputs": [
        {
          "output_type": "display_data",
          "data": {
            "text/plain": [
              "<Figure size 640x480 with 1 Axes>"
            ],
            "image/png": "[encoded data removed]"
          },
          "metadata": {}
        }
      ],
      "source": [
        "plt.scatter(data.HWY, data.CO2EMISSIONS, color=\"blue\")\n",
        "plt.xlabel(\"Fuel consumption HWY\")\n",
        "plt.ylabel(\"Emission\")\n",
        "plt.show();"
      ]
    },
    {
      "cell_type": "code",
      "execution_count": 30,
      "metadata": {
        "colab": {
          "base_uri": "https://localhost:8080/",
          "height": 458
        },
        "id": "7HgIMnUvwfGT",
        "outputId": "2d57a672-45ab-4684-b111-e4a148e753b8"
      },
      "outputs": [
        {
          "output_type": "display_data",
          "data": {
            "text/plain": [
              "<Figure size 640x480 with 1 Axes>"
            ],
            "image/png": "[encoded data removed]"
          },
          "metadata": {}
        }
      ],
      "source": [
        "plt.scatter(data.COMB_MPG, data.CO2EMISSIONS, color=\"blue\")\n",
        "plt.xlabel(\"Fuel consumption COMB_MPG\")\n",
        "plt.ylabel(\"Emission\")\n",
        "plt.show();"
      ]
    },
    {
      "cell_type": "code",
      "execution_count": 31,
      "metadata": {
        "id": "pFxhJhwZyGCY"
      },
      "outputs": [],
      "source": [
        "msk = np.random.rand(len(df)) < 0.8\n",
        "train = data[msk]\n",
        "test = data[~msk]"
      ]
    },
    {
      "cell_type": "code",
      "execution_count": 32,
      "metadata": {
        "id": "T3d4woyN1NMA"
      },
      "outputs": [],
      "source": [
        "#tính toán cost function dựa trên data và w hiện tại\n",
        "def compute_cost(X_train, y_train, w):\n",
        "  return (.5/X_train.shape[0]) * np.linalg.norm(y_train-X_train.dot(w) , 2) ** 2\n"
      ]
    },
    {
      "cell_type": "markdown",
      "metadata": {
        "id": "1P3VW-6A35M4"
      },
      "source": [
        "##Tính đạo hàm dựa trên công thức rút ra từ khai triển taylor"
      ]
    },
    {
      "cell_type": "markdown",
      "metadata": {
        "id": "hydfTZFKBi5_"
      },
      "source": [
        "Mọi người có thể xem cách chứng minh ở trang này: https://machinelearningcoban.com/2017/01/12/gradientdescent/"
      ]
    },
    {
      "cell_type": "code",
      "execution_count": 33,
      "metadata": {
        "id": "4EfvfSo81KZP"
      },
      "outputs": [],
      "source": [
        "#Tinh toán đạo hàm dựa trên đạo hàm lân cận 2 bên\n",
        "def numerical_Grad(X_train, y_train, w):\n",
        "  eps = 1e-4\n",
        "  gradient = np.zeros_like(w)\n",
        "  for i in range(len(w)):\n",
        "    w_r = w.copy()\n",
        "    w_l = w.copy()\n",
        "    w_r[i] += eps\n",
        "    w_l[i] -= eps\n",
        "    gradient[i] += (compute_cost(X_train, y_train, w_r) - compute_cost(X_train, y_train, w_l)) / (2 * eps)\n",
        "  return gradient\n",
        "    "
      ]
    },
    {
      "cell_type": "markdown",
      "metadata": {
        "id": "NDvE81EY4dXf"
      },
      "source": [
        "## Tính đạo hàm bình thường "
      ]
    },
    {
      "cell_type": "code",
      "execution_count": 34,
      "metadata": {
        "id": "tMyKjCMj2LB4"
      },
      "outputs": [],
      "source": [
        "def compute_Grad(X_train, y_train, w):\n",
        "  return 1/X_train.shape[0] * (X_train.T).dot((X_train.dot(w) - y_train))\n"
      ]
    },
    {
      "cell_type": "markdown",
      "metadata": {
        "id": "IDx4-vrI5hig"
      },
      "source": [
        "## Gradient_Descent"
      ]
    },
    {
      "cell_type": "markdown",
      "metadata": {
        "id": "nJ-yVjJm6RDd"
      },
      "source": [
        "**Có thể sử dụng 1 trong 2 cách đạo hàm trên, nhưng thường mình sẽ sử dụng định nghĩa thay vì dùng hàm đạo hàm vì một số trường hợp đi tìm đạo hàm là điều không khả thi. Vì vậy ở trong ví dụ này, tôi xin phép được tính đạo hàm dựa trên định nghĩa!!**\n"
      ]
    },
    {
      "cell_type": "markdown",
      "metadata": {
        "id": "zXq8g1nf_pTt"
      },
      "source": [
        "Nếu giá trị đạo hàm sấp xỉ 0, đối với bộ dữ liệu này. Tôi sẽ so sánh đạo hàm với 1 số rất nhỏ là 10 mũ -15, khi đạo hàm bé hơn mức là tức là mô hình này đã rất gần với điểm hội tụ, nên trả về kết quả"
      ]
    },
    {
      "cell_type": "code",
      "execution_count": 35,
      "metadata": {
        "id": "7qwKvQR36p57"
      },
      "outputs": [],
      "source": [
        "def has_converaged(X_train, y_train, w):\n",
        "  return np.linalg.norm(numerical_Grad(X_train, y_train, w)) / len(w) < 1e-15"
      ]
    },
    {
      "cell_type": "markdown",
      "metadata": {
        "id": "1UPmhoes_oxA"
      },
      "source": [
        "![image.png](data:image/png;base64,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)"
      ]
    },
    {
      "cell_type": "code",
      "execution_count": 36,
      "metadata": {
        "id": "1wtTpUkT6kLF"
      },
      "outputs": [],
      "source": [
        "def gradient_Descent(X_train, y_train, w, alpha):\n",
        "  J_history = []\n",
        "  weight = [w]\n",
        "  for i in range(100000):\n",
        "    grad = numerical_Grad(X_train, y_train, weight[-1])\n",
        "    weight_new = weight[-1] - alpha * grad\n",
        "    J_history.append(compute_cost(X_train, y_train, weight[-1]))\n",
        "    weight.append(weight_new)\n",
        "    if has_converaged(X_train, y_train, weight_new):\n",
        "      print(1)\n",
        "      break;\n",
        "\n",
        "\n",
        "  return weight, J_history"
      ]
    },
    {
      "cell_type": "markdown",
      "metadata": {
        "id": "JzsFMc4J88Fv"
      },
      "source": [
        "##Model\n"
      ]
    },
    {
      "cell_type": "markdown",
      "metadata": {
        "id": "F-2RmeUp_FKD"
      },
      "source": [
        "Chuẩn bị dữ liệu train cho mô hình"
      ]
    },
    {
      "cell_type": "code",
      "execution_count": 37,
      "metadata": {
        "id": "WGX79b968-Rd"
      },
      "outputs": [],
      "source": [
        "sizes = train.shape[0]\n",
        "COMB_MPG = np.array(train['COMB_MPG'])\n",
        "HWY = np.array(train['HWY'])\n",
        "EMISSION = np.array(train['CO2EMISSIONS'])\n",
        "Xtrain = np.concatenate((HWY, COMB_MPG, np.ones(sizes)), axis=0).reshape((3, sizes)).T\n",
        "ytrain = EMISSION\n"
      ]
    },
    {
      "cell_type": "markdown",
      "metadata": {
        "id": "Yw4wuloZ_gmC"
      },
      "source": [
        "Khởi tạo điểm ban đầu và chọn learning rate. Trong mô hình Gradient Descent, tốc độ phụ thuộc vào điểm ban đầu và learning rate. Vậy làm sao để chọn được learning rate và điểm ban đầu phù hợp, chúng ta sẽ nói thêm ở phần sau, còn ở phần này tôi chọn điểm ban đầu bằng 0 và learning rate là một số rất nhỏ!!! Khi chọn điểm khởi tạo ban đầu nếu điểm đó càng gần với local minium thì tốc độ hội tụ càng nhanh, còn khi chọn learning rate cần lưu ý:\"Nếu learning rate quá nhỏ thì tốc độ hội tụ chậm, nhưng nếu nó lớn thì nó thậm chí không hội tụ mà cứ luẩn quẩn xung quanh local minium\n"
      ]
    },
    {
      "cell_type": "code",
      "execution_count": 38,
      "metadata": {
        "colab": {
          "base_uri": "https://localhost:8080/"
        },
        "id": "Pq6X6jigAvNL",
        "outputId": "bf17e608-293d-4e10-bac8-461e0a1ad13f"
      },
      "outputs": [
        {
          "output_type": "stream",
          "name": "stdout",
          "text": [
            "26172.082488235294\n"
          ]
        }
      ],
      "source": [
        "weight = np.ones((1, Xtrain.shape[1]))\n",
        "alpha = 0.00202323424\n",
        "cost_st = compute_cost(Xtrain, ytrain, weight[-1])\n",
        "print(cost_st)"
      ]
    },
    {
      "cell_type": "markdown",
      "metadata": {
        "id": "O6voNwiGEwg0"
      },
      "source": [
        "Bây giờ cùng chạy model GD và xem kết quả!!"
      ]
    },
    {
      "cell_type": "code",
      "execution_count": 39,
      "metadata": {
        "colab": {
          "base_uri": "https://localhost:8080/"
        },
        "id": "SOEbmSpiE0jc",
        "outputId": "fa9d73ab-20a3-4666-fb64-487b07ca650f"
      },
      "outputs": [
        {
          "output_type": "stream",
          "name": "stdout",
          "text": [
            "364.0685681981603\n"
          ]
        }
      ],
      "source": [
        "weight, J_history = gradient_Descent(Xtrain, ytrain, weight[-1], alpha)\n",
        "cost_end = compute_cost(Xtrain, ytrain, weight[-1])\n",
        "print(cost_end)"
      ]
    },
    {
      "cell_type": "code",
      "execution_count": 40,
      "metadata": {
        "colab": {
          "base_uri": "https://localhost:8080/"
        },
        "id": "1AlMV5ele6Gm",
        "outputId": "89bc9427-309b-4b90-cfdf-fb0af48ba2f3"
      },
      "outputs": [
        {
          "output_type": "stream",
          "name": "stdout",
          "text": [
            "[ 13.10511981  -2.9595732  209.43200995]\n",
            "199.57039703118994\n",
            "196\n"
          ]
        }
      ],
      "source": [
        "print(weight[-1])\n",
        "print(weight[-1].dot(Xtrain[0]))\n",
        "print(EMISSION[0])"
      ]
    },
    {
      "cell_type": "markdown",
      "source": [
        "##GD + Momentum\n"
      ],
      "metadata": {
        "id": "a2b5TmvjgSmP"
      }
    },
    {
      "cell_type": "markdown",
      "source": [
        "![image.png](data:image/png;base64,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)"
      ],
      "metadata": {
        "id": "VibxLwdDgXp2"
      }
    },
    {
      "cell_type": "markdown",
      "source": [
        "Nếu chỉ sử dụng GD thì khi gần tới D, ta sẽ thu được đạo hàm sấp xỉ 0. Cuối cùng thuật toán của chúng ta sẽ hội tụ tại điểm D, nhưng bạn hãy nhìn về phía $E$, và nó dẫn ta tới điểm global minimum, đấy mới chính là kết quả mong muốn của mô hình. Trên thực tế, chúng ta có thể thấy nếu thuật toán đi xuống từ B là một con dốc rất cao thì nó đáng ra phải có quán tính và bay ra khỏi điểm local minimum $D$ đúng không? Nhưng GD qua mỗi lần cập nhật giá trị chúng ta có thể thấy nó chỉ ảnh hưởng bởi độ dốc hiện tại, vì vậy khi gần tới 1 điểm local minimum nó sẽ gần như bằng không. Trong thuật toán Gradient Descent chúng ta cần tính toán một đại lượng tại thời điểm t để cập nhật giá trị mới cho nghiệm. Hãy xem đó là vận tốc tại thời điểm $t$, và nó sẽ lưu thông tin độ dốc và thông tin của đà (vận tốc trước đó $v_{t-1}$). Nếu chúng ta coi vận tốc ở thời điểm hiện tại là $v_t$ thì nghiệm ở thời điểm $t+1$ là $\\theta_{t+1} = \\theta_{t} - v_t$. Và như đã trình bày thì $v_t$ sẽ lưu thông tin độ dốc và thông tin của đà ( vận tốc bước trước đó ) nên ta sẽ tính $v$ theo công thức: "
      ],
      "metadata": {
        "id": "0zMtY9Qzgh6A"
      }
    },
    {
      "cell_type": "code",
      "source": [],
      "metadata": {
        "id": "iPRsjk9Egg-F"
      },
      "execution_count": null,
      "outputs": []
    }
  ],
  "metadata": {
    "colab": {
      "provenance": [],
      "authorship_tag": "ABX9TyP/A5c6emAZDm9AnnCEfD/M",
      "include_colab_link": true
    },
    "kernelspec": {
      "display_name": "Python 3",
      "name": "python3"
    },
    "language_info": {
      "name": "python"
    }
  },
  "nbformat": 4,
  "nbformat_minor": 0
}